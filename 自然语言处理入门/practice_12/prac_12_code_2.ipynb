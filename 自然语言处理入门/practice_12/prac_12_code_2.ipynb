{
 "cells": [
  {
   "cell_type": "code",
   "execution_count": 1,
   "metadata": {},
   "outputs": [
    {
     "name": "stdout",
     "output_type": "stream",
     "text": [
      "Looking in indexes: https://pypi.tuna.tsinghua.edu.cn/simple\n",
      "Requirement already satisfied: jieba in e:\\users\\admin\\anaconda3\\lib\\site-packages (0.42.1)\n"
     ]
    }
   ],
   "source": [
    "#安装jieba\n",
    "# !pip install jieba -i https://pypi.tuna.tsinghua.edu.cn/simple"
   ]
  },
  {
   "cell_type": "code",
   "execution_count": 3,
   "metadata": {},
   "outputs": [],
   "source": [
    "import jieba\n",
    "import jieba.analyse"
   ]
  },
  {
   "cell_type": "markdown",
   "metadata": {},
   "source": [
    "## 1. jieba库基本应用\n",
    "\n",
    "Python 的第三方库 jieba 分词是目前使用人数较多的中文分词工具，它结合了基于规则 和基于统计这两类方法，提供全模式、精确模式、搜索引擎模式三种分词方法。\n",
    "\n",
    "**(1)全模式与精确模式**\n",
    "\n",
    "全模式下 Python 会把句子中所有可以成词的词语都扫描出来，这种方法速度非常快，但是不能有效解决歧义词问题。\n",
    "\n",
    "精确模式下 Python 尽量将句子最精确地切开，更适合应用于文本分析。\n",
    "\n",
    "jieba 使用 jieba.cut 方法实现全模式和精确模式分词。\n",
    "\n",
    "```\n",
    "jieba.cut (s, cut_all = False)\n",
    "```"
   ]
  },
  {
   "cell_type": "code",
   "execution_count": 5,
   "metadata": {},
   "outputs": [
    {
     "name": "stdout",
     "output_type": "stream",
     "text": [
      "全模式: :\n",
      " 我/ 是/ 来自/ 中华/ 中华人民/ 中华人民共和国/ 华人/ 人民/ 人民共和国/ 共和/ 共和国/ 湖北/ 湖北省/ 武汉/ 武汉市/ 武汉/ 武汉大学/ 大学/ 的/ 一名/ 大学/ 大学生/ 学生\n",
      "精确模式:\n",
      " 我/ 是/ 来自/ 中华人民共和国/ 湖北省/ 武汉市/ 武汉大学/ 的/ 一名/ 大学生\n",
      "默认模式:\n",
      " 我/ 是/ 来自/ 中华人民共和国/ 湖北省/ 武汉市/ 武汉大学/ 的/ 一名/ 大学生\n"
     ]
    }
   ],
   "source": [
    "#分词\n",
    "seg_list = jieba.cut(\"我是来自中华人民共和国湖北省武汉市武汉大学的一名大学生\", cut_all=True)\n",
    "print(\"全模式: :\\n \" + \"/ \".join(seg_list))  # 全模式\n",
    "\n",
    "seg_list = jieba.cut(\"我是来自中华人民共和国湖北省武汉市武汉大学的一名大学生\", cut_all=False)\n",
    "print(\"精确模式:\\n \" + \"/ \".join(seg_list))  # 精确模式\n",
    "\n",
    "seg_list = jieba.cut(\"我是来自中华人民共和国湖北省武汉市武汉大学的一名大学生\")  # 默认是精确模式\n",
    "print(\"默认模式:\\n \" + \"/ \".join(seg_list))"
   ]
  },
  {
   "cell_type": "markdown",
   "metadata": {},
   "source": [
    "**(2)搜索引擎模式**\n",
    "\n",
    "搜索引擎模式是在精确模式的基础上，对长词再次切分，能有效提高分词的召回率， 适合应用于搜索引擎分词。\n",
    "\n",
    "jieba.cut_for_search 方法用于在搜索引擎模式下分词."
   ]
  },
  {
   "cell_type": "code",
   "execution_count": 6,
   "metadata": {},
   "outputs": [
    {
     "name": "stdout",
     "output_type": "stream",
     "text": [
      "搜索模式:\n",
      " 我/ 是/ 来自/ 中华/ 华人/ 人民/ 共和/ 共和国/ 中华人民共和国/ 湖北/ 湖北省/ 武汉/ 武汉市/ 武汉/ 大学/ 武汉大学/ 的/ 一名/ 大学/ 学生/ 大学生\n"
     ]
    }
   ],
   "source": [
    "seg_list = jieba.cut_for_search(\"我是来自中华人民共和国湖北省武汉市武汉大学的一名大学生\")  # 搜索引擎模式\n",
    "print(\"搜索模式:\\n \" + \"/ \".join(seg_list))"
   ]
  },
  {
   "cell_type": "markdown",
   "metadata": {},
   "source": [
    "## 2. 添加自定义词典\n",
    "\n",
    "jieba 分词器所基于的前缀词典由 dict.txt 提供，但在进行分词时，由于一些“新词”未提前定义，jieba 无法识别出词库中没有的词语.\n",
    "\n",
    "例如: 将“哈利波特”切分成“哈利波/特”，将“大数据”切分为 “大/数据”等。"
   ]
  },
  {
   "cell_type": "code",
   "execution_count": 98,
   "metadata": {},
   "outputs": [
    {
     "name": "stdout",
     "output_type": "stream",
     "text": [
      "哈利波/ 特大/ 声言/ 道/ ，/ '/ 人/ 生而自由/ ，/ 却/ 无往/ 不/ 在/ 枷锁/ 中/ '/ 。\n"
     ]
    }
   ],
   "source": [
    "seg_list = jieba.cut(\"哈利波特大声言道，'人生而自由，却无往不在枷锁中'。\")\n",
    "print(\"/ \".join(seg_list))  "
   ]
  },
  {
   "cell_type": "markdown",
   "metadata": {},
   "source": [
    "添加“哈利波特”至自定义词典后的分词结果为:"
   ]
  },
  {
   "cell_type": "code",
   "execution_count": 99,
   "metadata": {},
   "outputs": [
    {
     "name": "stdout",
     "output_type": "stream",
     "text": [
      "哈利波特/ 大声/ 言/ 道/ ，/ '/ 人/ 生而自由/ ，/ 却/ 无往/ 不/ 在/ 枷锁/ 中/ '/ 。\n"
     ]
    }
   ],
   "source": [
    "#添加用户词典\n",
    "jieba.load_userdict('userdic.txt')\n",
    "seg_list = jieba.cut(\"哈利波特大声言道，'人生而自由，却无往不在枷锁中'。\")\n",
    "print(\"/ \".join(seg_list)) "
   ]
  },
  {
   "cell_type": "code",
   "execution_count": 101,
   "metadata": {},
   "outputs": [
    {
     "name": "stdout",
     "output_type": "stream",
     "text": [
      "哈利波特/ 言道/ ，/ '/ 人/ 生而自由/ ，/ 却/ 无往不在/ 枷锁/ 中/ '/ 。\n"
     ]
    }
   ],
   "source": [
    "#添加词\n",
    "jieba.add_word('言道')\n",
    "jieba.add_word('无往不在')\n",
    "seg_list = jieba.cut(\"哈利波特言道，'人生而自由，却无往不在枷锁中'。\")\n",
    "print(\"/ \".join(seg_list)) "
   ]
  },
  {
   "cell_type": "markdown",
   "metadata": {},
   "source": [
    "通过 del_word(word)方法可以删除自定义词典中的词汇"
   ]
  },
  {
   "cell_type": "code",
   "execution_count": 102,
   "metadata": {},
   "outputs": [
    {
     "name": "stdout",
     "output_type": "stream",
     "text": [
      "哈利波特/ 言道/ ，/ '/ 人/ 生而自由/ ，/ 却/ 无往/ 不/ 在/ 枷锁/ 中/ '/ 。\n"
     ]
    }
   ],
   "source": [
    "#删除词\n",
    "jieba.del_word('无往不在')\n",
    "\n",
    "seg_list = jieba.cut(\"哈利波特言道，'人生而自由，却无往不在枷锁中'。\")\n",
    "print(\"/ \".join(seg_list))  "
   ]
  },
  {
   "cell_type": "markdown",
   "metadata": {},
   "source": [
    "## 3. 词性标注\n",
    "\n",
    "在 jieba 分词中，词性标注需要有一定的标注规范，如将词分为名词、形容词、动词等， 然后用“n”“a”“v”等来进行表示。"
   ]
  },
  {
   "cell_type": "markdown",
   "metadata": {},
   "source": [
    "**<center>词性标注规范表**\n",
    "\n",
    "<table><tbody><tr><td>代码</td>\n",
    "\t\t\t<td style=\"width:85px;\">名称</td>\n",
    "\t\t\t<td style=\"width:243px;\">说明</td>\n",
    "\t\t\t<td style=\"width:367px;\">举例</td>\n",
    "\t\t</tr><tr><td>a</td>\n",
    "\t\t\t<td style=\"width:85px;\">形容词</td>\n",
    "\t\t\t<td style=\"width:243px;\">取英语形容词adjective的第1个字母</td>\n",
    "\t\t\t<td style=\"width:367px;\">最/d 大/a 的/u</td>\n",
    "\t\t</tr><tr><td>ad</td>\n",
    "\t\t\t<td style=\"width:85px;\">副形词</td>\n",
    "\t\t\t<td style=\"width:243px;\">直接作状语的形容词.形容词代码a和副词代码d并在一起</td>\n",
    "\t\t\t<td style=\"width:367px;\">一定/d 能够/v 顺利/ad 实现/v 。/w</td>\n",
    "\t\t</tr><tr><td>ag</td>\n",
    "\t\t\t<td style=\"width:85px;\">形语素</td>\n",
    "\t\t\t<td style=\"width:243px;\">形容词性语素。形容词代码为a，语素代码ｇ前面置以a</td>\n",
    "\t\t\t<td style=\"width:367px;\">喜/v 煞/ag 人/n</td>\n",
    "\t\t</tr><tr><td>an</td>\n",
    "\t\t\t<td style=\"width:85px;\">名形词</td>\n",
    "\t\t\t<td style=\"width:243px;\">具有名词功能的形容词。形容词代码a和名词代码n并在一起</td>\n",
    "\t\t\t<td style=\"width:367px;\">人民/n 的/u 根本/a 利益/n 和/c 国家/n 的/u 安稳/an 。/w</td>\n",
    "\t\t</tr><tr><td>b</td>\n",
    "\t\t\t<td style=\"width:85px;\">区别词</td>\n",
    "\t\t\t<td style=\"width:243px;\">取汉字“别”的声母</td>\n",
    "\t\t\t<td style=\"width:367px;\">副/b 书记/n 王/nr 思齐/nr</td>\n",
    "\t\t</tr><tr><td>c</td>\n",
    "\t\t\t<td style=\"width:85px;\">连词</td>\n",
    "\t\t\t<td style=\"width:243px;\">取英语连词conjunction的第1个字母</td>\n",
    "\t\t\t<td style=\"width:367px;\">全军/n 和/c 武警/n 先进/a 典型/n 代表/n</td>\n",
    "\t\t</tr><tr><td>d</td>\n",
    "\t\t\t<td style=\"width:85px;\">副词</td>\n",
    "\t\t\t<td style=\"width:243px;\">取adverb的第2个字母，因其第1个字母已用于形容词</td>\n",
    "\t\t\t<td style=\"width:367px;\">两侧/f 台柱/n 上/ 分别/d 雄踞/v 着/u</td>\n",
    "\t\t</tr><tr><td>dg</td>\n",
    "\t\t\t<td style=\"width:85px;\">副语素</td>\n",
    "\t\t\t<td style=\"width:243px;\"> 副词性语素。副词代码为d，语素代码ｇ前面置以d</td>\n",
    "\t\t\t<td style=\"width:367px;\">用/v 不/d 甚/dg 流利/a 的/u 中文/nz 主持/v 节目/n 。/w</td>\n",
    "\t\t</tr><tr><td>e</td>\n",
    "\t\t\t<td style=\"width:85px;\">叹词</td>\n",
    "\t\t\t<td style=\"width:243px;\">取英语叹词exclamation的第1个字母</td>\n",
    "\t\t\t<td style=\"width:367px;\">嗬/e ！/w</td>\n",
    "\t\t</tr><tr><td>f</td>\n",
    "\t\t\t<td style=\"width:85px;\">方位词</td>\n",
    "\t\t\t<td style=\"width:243px;\">取汉字“方” 的声母</td>\n",
    "\t\t\t<td style=\"width:367px;\">从/p 一/m 大/a 堆/q 档案/n 中/f 发现/v 了/u</td>\n",
    "\t\t</tr><tr><td>g</td>\n",
    "\t\t\t<td style=\"width:85px;\">语素</td>\n",
    "\t\t\t<td style=\"width:243px;\">绝大多数语素都能作为合成词的“词根”，取汉字“根”的声母</td>\n",
    "\t\t\t<td style=\"width:367px;\">例如dg 或ag</td>\n",
    "\t\t</tr><tr><td>h</td>\n",
    "\t\t\t<td style=\"width:85px;\">前接成分</td>\n",
    "\t\t\t<td style=\"width:243px;\">取英语head的第1个字母</td>\n",
    "\t\t\t<td style=\"width:367px;\">目前/t 各种/r 非/h 合作制/n 的/u 农产品/n</td>\n",
    "\t\t</tr><tr><td>i</td>\n",
    "\t\t\t<td style=\"width:85px;\">成语</td>\n",
    "\t\t\t<td style=\"width:243px;\">取英语成语idiom的第1个字母</td>\n",
    "\t\t\t<td style=\"width:367px;\">提高/v 农民/n 讨价还价/i 的/u 能力/n 。/w</td>\n",
    "\t\t</tr><tr><td>j</td>\n",
    "\t\t\t<td style=\"width:85px;\">简称略语</td>\n",
    "\t\t\t<td style=\"width:243px;\">取汉字“简”的声母</td>\n",
    "\t\t\t<td style=\"width:367px;\">民主/ad 选举/v 村委会/j 的/u 工作/vn</td>\n",
    "\t\t</tr><tr><td>k</td>\n",
    "\t\t\t<td style=\"width:85px;\">后接成分</td>\n",
    "\t\t\t<td style=\"width:243px;\"> </td>\n",
    "\t\t\t<td style=\"width:367px;\">权责/n 明确/a 的/u 逐级/d 授权/v 制/k</td>\n",
    "\t\t</tr><tr><td>l</td>\n",
    "\t\t\t<td style=\"width:85px;\">习用语</td>\n",
    "\t\t\t<td style=\"width:243px;\">习用语尚未成为成语，有点“临时性”，取“临”的声母</td>\n",
    "\t\t\t<td style=\"width:367px;\">是/v 建立/v 社会主义/n 市场经济/n 体制/n 的/u 重要/a 组成部分/l 。/w</td>\n",
    "\t\t</tr><tr><td>m</td>\n",
    "\t\t\t<td style=\"width:85px;\">数词</td>\n",
    "\t\t\t<td style=\"width:243px;\">取英语numeral的第3个字母，n，u已有他用</td>\n",
    "\t\t\t<td style=\"width:367px;\">科学技术/n 是/v 第一/m 生产力/n</td>\n",
    "\t\t</tr><tr><td>n</td>\n",
    "\t\t\t<td style=\"width:85px;\">名词</td>\n",
    "\t\t\t<td style=\"width:243px;\">取英语名词noun的第1个字母</td>\n",
    "\t\t\t<td style=\"width:367px;\">希望/v 双方/n 在/p 市政/n 规划/vn</td>\n",
    "\t\t</tr><tr><td>ng</td>\n",
    "\t\t\t<td style=\"width:85px;\">名语素</td>\n",
    "\t\t\t<td style=\"width:243px;\">名词性语素。名词代码为n，语素代码ｇ前面置以n</td>\n",
    "\t\t\t<td style=\"width:367px;\">就此/d 分析/v 时/Ng 认为/v</td>\n",
    "\t\t</tr><tr><td>nr</td>\n",
    "\t\t\t<td style=\"width:85px;\">人名</td>\n",
    "\t\t\t<td style=\"width:243px;\">名词代码n和“人(ren)”的声母并在一起</td>\n",
    "\t\t\t<td style=\"width:367px;\">建设部/nt 部长/n 侯/nr 捷/nr</td>\n",
    "\t\t</tr><tr><td>ns</td>\n",
    "\t\t\t<td style=\"width:85px;\">地名</td>\n",
    "\t\t\t<td style=\"width:243px;\">名词代码n和处所词代码s并在一起</td>\n",
    "\t\t\t<td style=\"width:367px;\">北京/ns 经济/n 运行/vn 态势/n 喜人/a</td>\n",
    "\t\t</tr><tr><td>nt</td>\n",
    "\t\t\t<td style=\"width:85px;\">机构团体</td>\n",
    "\t\t\t<td style=\"width:243px;\">“团”的声母为t，名词代码n和t并在一起</td>\n",
    "\t\t\t<td style=\"width:367px;\">[冶金/n 工业部/n 洛阳/ns 耐火材料/l 研究院/n]nt</td>\n",
    "\t\t</tr><tr><td>nx</td>\n",
    "\t\t\t<td style=\"width:85px;\">字母专名</td>\n",
    "\t\t\t<td style=\"width:243px;\"> </td>\n",
    "\t\t\t<td style=\"width:367px;\">ＡＴＭ/nx 交换机/n</td>\n",
    "\t\t</tr><tr><td>nz</td>\n",
    "\t\t\t<td style=\"width:85px;\">其他专名</td>\n",
    "\t\t\t<td style=\"width:243px;\">“专”的声母的第1个字母为z，名词代码n和z并在一起</td>\n",
    "\t\t\t<td style=\"width:367px;\">德士古/nz 公司/n</td>\n",
    "\t\t</tr><tr><td>o</td>\n",
    "\t\t\t<td style=\"width:85px;\">拟声词</td>\n",
    "\t\t\t<td style=\"width:243px;\">取英语拟声词onomatopoeia的第1个字母</td>\n",
    "\t\t\t<td style=\"width:367px;\">汩汩/o 地/u 流/v 出来/v</td>\n",
    "\t\t</tr><tr><td>p</td>\n",
    "\t\t\t<td style=\"width:85px;\">介词</td>\n",
    "\t\t\t<td style=\"width:243px;\">取英语介词prepositional的第1个字母</td>\n",
    "\t\t\t<td style=\"width:367px;\">往/p 基层/n 跑/v 。/w</td>\n",
    "\t\t</tr><tr><td>q</td>\n",
    "\t\t\t<td style=\"width:85px;\">量词</td>\n",
    "\t\t\t<td style=\"width:243px;\">取英语quantity的第1个字母</td>\n",
    "\t\t\t<td style=\"width:367px;\">不止/v 一/m 次/q 地/u 听到/v ，/w</td>\n",
    "\t\t</tr><tr><td>r</td>\n",
    "\t\t\t<td style=\"width:85px;\">代词</td>\n",
    "\t\t\t<td style=\"width:243px;\">取英语代词pronoun的第2个字母,因p已用于介词</td>\n",
    "\t\t\t<td style=\"width:367px;\">有些/r 部门/n</td>\n",
    "\t\t</tr><tr><td>s</td>\n",
    "\t\t\t<td style=\"width:85px;\">处所词</td>\n",
    "\t\t\t<td style=\"width:243px;\">取英语space的第1个字母</td>\n",
    "\t\t\t<td style=\"width:367px;\">移居/v 海外/s 。/w</td>\n",
    "\t\t</tr><tr><td>t</td>\n",
    "\t\t\t<td style=\"width:85px;\">时间词</td>\n",
    "\t\t\t<td style=\"width:243px;\">取英语time的第1个字母</td>\n",
    "\t\t\t<td style=\"width:367px;\">当前/t 经济/n 社会/n 情况/n</td>\n",
    "\t\t</tr><tr><td>tg</td>\n",
    "\t\t\t<td style=\"width:85px;\">时语素</td>\n",
    "\t\t\t<td style=\"width:243px;\">时间词性语素。时间词代码为t,在语素的代码g前面置以t</td>\n",
    "\t\t\t<td style=\"width:367px;\">秋/Tg 冬/tg 连/d 旱/a</td>\n",
    "\t\t</tr><tr><td>u</td>\n",
    "\t\t\t<td style=\"width:85px;\">助词</td>\n",
    "\t\t\t<td style=\"width:243px;\">取英语助词auxiliary 的第2个字母,因a已用于形容词</td>\n",
    "\t\t\t<td style=\"width:367px;\">工作/vn 的/u 政策/n</td>\n",
    "\t\t</tr><tr><td>ud</td>\n",
    "\t\t\t<td style=\"width:85px;\">结构助词</td>\n",
    "\t\t\t<td style=\"width:243px;\"> </td>\n",
    "\t\t\t<td style=\"width:367px;\">有/v 心/n 栽/v 得/ud 梧桐树/n</td>\n",
    "\t\t</tr><tr><td>ug</td>\n",
    "\t\t\t<td style=\"width:85px;\">时态助词</td>\n",
    "\t\t\t<td style=\"width:243px;\"> </td>\n",
    "\t\t\t<td style=\"width:367px;\">你/r 想/v 过/ug 没有/v</td>\n",
    "\t\t</tr><tr><td>uj</td>\n",
    "\t\t\t<td style=\"width:85px;\">结构助词的</td>\n",
    "\t\t\t<td style=\"width:243px;\"> </td>\n",
    "\t\t\t<td style=\"width:367px;\">迈向/v 充满/v 希望/n 的/uj 新/a 世纪/n</td>\n",
    "\t\t</tr><tr><td>ul</td>\n",
    "\t\t\t<td style=\"width:85px;\">时态助词了</td>\n",
    "\t\t\t<td style=\"width:243px;\"> </td>\n",
    "\t\t\t<td style=\"width:367px;\">完成/v 了/ ul</td>\n",
    "\t\t</tr><tr><td>uv</td>\n",
    "\t\t\t<td style=\"width:85px;\">结构助词地</td>\n",
    "\t\t\t<td style=\"width:243px;\"> </td>\n",
    "\t\t\t<td style=\"width:367px;\">满怀信心/l 地/uv 开创/v 新/a 的/u 业绩/n</td>\n",
    "\t\t</tr><tr><td>uz</td>\n",
    "\t\t\t<td style=\"width:85px;\">时态助词着</td>\n",
    "\t\t\t<td style=\"width:243px;\"> </td>\n",
    "\t\t\t<td style=\"width:367px;\">眼看/v 着/uz</td>\n",
    "\t\t</tr><tr><td>v</td>\n",
    "\t\t\t<td style=\"width:85px;\">动词</td>\n",
    "\t\t\t<td style=\"width:243px;\"> </td>\n",
    "\t\t\t<td style=\"width:367px;\">举行/v 老/a 干部/n 迎春/vn 团拜会/n</td>\n",
    "\t\t</tr><tr><td>vd</td>\n",
    "\t\t\t<td style=\"width:85px;\">副动词</td>\n",
    "\t\t\t<td style=\"width:243px;\"> </td>\n",
    "\t\t\t<td style=\"width:367px;\">强调/vd 指出/v</td>\n",
    "\t\t</tr><tr><td>vg</td>\n",
    "\t\t\t<td style=\"width:85px;\">动语素</td>\n",
    "\t\t\t<td style=\"width:243px;\">动词性语素。动词代码为v。在语素的代码g前面置以V</td>\n",
    "\t\t\t<td style=\"width:367px;\">做好/v 尊/vg 干/j 爱/v 兵/n 工作/vn</td>\n",
    "\t\t</tr><tr><td>vn</td>\n",
    "\t\t\t<td style=\"width:85px;\">名动词</td>\n",
    "\t\t\t<td style=\"width:243px;\"> 指具有名词功能的动词。动词和名词的代码并在一起</td>\n",
    "\t\t\t<td style=\"width:367px;\">股份制/n 这种/r 企业/n 组织/vn 形式/n ，/w</td>\n",
    "\t\t</tr><tr><td>w</td>\n",
    "\t\t\t<td style=\"width:85px;\">标点符号</td>\n",
    "\t\t\t<td style=\"width:243px;\"> </td>\n",
    "\t\t\t<td style=\"width:367px;\">生产/v 的/u ５Ｇ/nx 、/w ８Ｇ/nx 型/k 燃气/n 热水器/n</td>\n",
    "\t\t</tr><tr><td>x</td>\n",
    "\t\t\t<td style=\"width:85px;\">非语素字</td>\n",
    "\t\t\t<td style=\"width:243px;\">非语素字只是一个符号，字母x通常用于代表未知数、符号</td>\n",
    "\t\t\t<td style=\"width:367px;\"> </td>\n",
    "\t\t</tr><tr><td>y</td>\n",
    "\t\t\t<td style=\"width:85px;\">语气词</td>\n",
    "\t\t\t<td style=\"width:243px;\">取汉字“语”的声母</td>\n",
    "\t\t\t<td style=\"width:367px;\">已经/d ３０/m 多/m 年/q 了/y 。/w</td>\n",
    "\t\t</tr><tr><td>z</td>\n",
    "\t\t\t<td style=\"width:85px;\">状态词</td>\n",
    "\t\t\t<td style=\"width:243px;\">取汉字“状”的声母的前一个字母</td>\n",
    "\t\t\t<td style=\"width:367px;\">势头/n 依然/z 强劲/a ；/w</td>\n",
    "\t\t</tr></tbody></table>\n",
    "    <p> </p> "
   ]
  },
  {
   "cell_type": "markdown",
   "metadata": {},
   "source": [
    "在 jieba 分词工具中，词性标注调用格式如下:\n",
    "\n",
    "```\n",
    "jieba.posseg.POSTokenizer(tokenizer=None)\n",
    "```\n",
    "\n",
    "该方法可以新建自定义分词器，其中 tokenizer 参数为指定内部使用的 jieba.Tokenizer 分词器，jieba.posseg.dt 为默认词性标注分词器，标注句子分词后每个词的词性通过循环输出。"
   ]
  },
  {
   "cell_type": "code",
   "execution_count": 38,
   "metadata": {},
   "outputs": [
    {
     "name": "stdout",
     "output_type": "stream",
     "text": [
      "我 r\n",
      "是 v\n",
      "来自 v\n",
      "中华人民共和国 ns\n",
      "湖北省 ns\n",
      "武汉市 ns\n",
      "武汉大学 nt\n",
      "的 uj\n",
      "一名 m\n",
      "大学生 n\n"
     ]
    }
   ],
   "source": [
    "#导入词性标注的包\n",
    "import jieba.posseg as pseg\n",
    "\n",
    "words = pseg.cut(\"我是来自中华人民共和国湖北省武汉市武汉大学的一名大学生\")\n",
    "\n",
    "for word, flag in words:\n",
    "    print('%s %s' % (word, flag))"
   ]
  },
  {
   "cell_type": "markdown",
   "metadata": {},
   "source": [
    "## 4. 文本数据预处理\n",
    "\n",
    "一般而言，在进行文本分析之前需要将文本数据进行预处理，将其解析为更干净和更 容易解读的格式。\n",
    "\n",
    "文本语料和原始文本的数据格式常常是非规范的，文本预处理就是使用各种方法将原始文本转换为定义良好的语言成分序列。"
   ]
  },
  {
   "cell_type": "code",
   "execution_count": 7,
   "metadata": {},
   "outputs": [],
   "source": [
    "import re\n",
    "import jieba"
   ]
  },
  {
   "cell_type": "markdown",
   "metadata": {},
   "source": [
    "### 4.1 数据读入\n",
    "\n",
    "使用《红楼梦》全文文本进行实践"
   ]
  },
  {
   "cell_type": "code",
   "execution_count": 2,
   "metadata": {},
   "outputs": [
    {
     "data": {
      "text/plain": [
       "'    上卷 第一回  甄士隐梦幻识通灵\\u3000贾雨村风尘怀闺秀\\n此开卷第一回也．作者自云：因曾历过一番梦幻之后，故将真事隐去，而借\"通灵\"之说，撰此《石头记》一书也．故曰\"甄士隐\"云云．但书中所记何事何'"
      ]
     },
     "execution_count": 2,
     "metadata": {},
     "output_type": "execute_result"
    }
   ],
   "source": [
    "# 读入数据文件文件\n",
    "content = open('hlm.txt').read()\n",
    "content[:99]     #显示部分数据内容"
   ]
  },
  {
   "cell_type": "markdown",
   "metadata": {},
   "source": [
    "### 4.2 数据清理\n",
    "\n",
    "数据清理是指对文本中包含的 大量无关和不必要的标识或字符进行处理，如空格、标点、特殊符号等。\n",
    "\n",
    "文本数据的清理可以通过正则表达式来完成，使用 sub 函数对原始文本进行删除换行符、空白和特殊字符等操作。"
   ]
  },
  {
   "cell_type": "code",
   "execution_count": 3,
   "metadata": {},
   "outputs": [
    {
     "data": {
      "text/plain": [
       "'上卷第一回甄士隐梦幻识通灵 贾雨村风尘怀闺秀此开卷第一回也 作者自云 因曾历过一番梦幻之后 故将真事隐去 而借 通灵 之说 撰此 石头记 一书也 故曰 甄士隐 云云 但书中所记何事何人 自又云 今风'"
      ]
     },
     "execution_count": 3,
     "metadata": {},
     "output_type": "execute_result"
    }
   ],
   "source": [
    "#数据清理\n",
    "content = re.sub(r'\\n+','',content) #remove \\n\n",
    "content = re.sub(r' +','',content)  #remove blank\n",
    "content = re.sub(r'\\W+',' ',content) #replace symbols with blank\n",
    "content[:99]      #显示部分文本内容"
   ]
  },
  {
   "cell_type": "markdown",
   "metadata": {},
   "source": [
    "### 4.3 去停用词\n",
    "\n",
    "文本分词"
   ]
  },
  {
   "cell_type": "code",
   "execution_count": 8,
   "metadata": {},
   "outputs": [
    {
     "name": "stderr",
     "output_type": "stream",
     "text": [
      "Building prefix dict from the default dictionary ...\n",
      "Dumping model to file cache /var/folders/zt/_gpwfbgn0919jcl5k156sjtr0000gp/T/jieba.cache\n",
      "Loading model cost 0.984 seconds.\n",
      "Prefix dict has been built successfully.\n"
     ]
    },
    {
     "name": "stdout",
     "output_type": "stream",
     "text": [
      "分词结果: \n",
      " 上卷/第一回/甄士隐/梦幻/识通灵/ /贾雨村/风尘/怀/闺秀/此/开卷/第一回/也/ /作者/自云/ /因曾/历过/一番/梦幻/之后/ /故/将/真事/隐去/ /而/借/ /通灵/ /之/说/ /撰此/ /石头记/ /一书/也/ /故曰/ /甄士隐/ /云云/ /但书中/所记/何事/何人/ /自又云/ /今/风尘碌碌/ /一事无成/ /忽/念及/当日/所有/之/女子/ /一一/细考/较/去/ /觉其/行止/见识/ /皆/出于/我/之上/ /何/我/堂堂/须眉/ /诚不若/彼/裙钗/哉/ /实愧/则/有余/ /悔/又\n"
     ]
    }
   ],
   "source": [
    "#分词\n",
    "seg_list = list(jieba.cut(content))\n",
    "print(\"分词结果: \\n\",\"/\".join(seg_list[:99]))     #显示部分分词结果"
   ]
  },
  {
   "cell_type": "markdown",
   "metadata": {},
   "source": [
    "根据上述分词结果可以看出，文本中仍存在一些无意义的词汇，如“此”“也”等，这些词汇对《红楼梦》的文本分析任务并无任何益处，甚至还会干扰分析结果。这些词也称为**停用词**。\n",
    "\n",
    "停用词可以是人工输入、非自动化生成的，生成后的停用词会形成一个停用词表。例如`stopwords.txt`文件。\n",
    "但是，不同的领域有不同的停用词。\n",
    "\n",
    "下面的代码使用 `read()`语句读取部分由用户自定义的停用词:"
   ]
  },
  {
   "cell_type": "code",
   "execution_count": 9,
   "metadata": {},
   "outputs": [
    {
     "name": "stdout",
     "output_type": "stream",
     "text": [
      "停用词: \n",
      "  ,?,、,。,“,”,《,》,！,，,：,；,？,同志们,同时,啊,阿,哎,哎呀,哎哟\n"
     ]
    }
   ],
   "source": [
    "#加载停用词表\n",
    "stopwords = open('stopwords.txt').read() #长字符串\n",
    "stopwords = stopwords.split('\\n')       #字符串按'\\n'分割，构建列表类型\n",
    "print(\"停用词: \\n\",\",\".join(stopwords[:20]))      #显示部分停用词，第一个为空格"
   ]
  },
  {
   "cell_type": "markdown",
   "metadata": {},
   "source": [
    "下面的代码可以实现利用用户停用词表`stopwords.txt`删除《红楼梦》全文本中的停用词:"
   ]
  },
  {
   "cell_type": "code",
   "execution_count": 10,
   "metadata": {},
   "outputs": [
    {
     "name": "stdout",
     "output_type": "stream",
     "text": [
      "分词结果: \n",
      " 上卷/第一回/甄士隐/梦幻/识通灵/贾雨村/风尘/怀/闺秀/开卷/第一回/作者/自云/因曾/历过/一番/梦幻/之后/真事/隐去/通灵/说/撰此/石头记/一书/故曰/甄士隐/但书中/所记/何事/何人/自又云/今/风尘碌碌/一事无成/忽/念及/当日/所有/女子/一一/细考/觉其/行止/见识/皆/出于/之上/堂堂/须眉/诚不若/裙钗/实愧/有余/悔/无益/之大/无可如何/之日/自欲/已往/所赖/天恩祖/德/锦衣/纨绔/时/饫甘餍肥/日/背/父兄/教育/之恩/负/师友/规谈/之德/今日/一技无成/半生/潦倒/之罪/编述/一集/以告/天下人/罪固/闺阁/中本/历历/有人/万/不可/不肖/自护己/短/一并/使/泯灭\n"
     ]
    }
   ],
   "source": [
    "#去停用词\n",
    "final_content = []\n",
    "for seg in seg_list:\n",
    "    if seg not in stopwords:\n",
    "        final_content.append(seg)\n",
    "print(\"分词结果: \\n\",\"/\".join(final_content[:99]))     #显示部分处理结果"
   ]
  },
  {
   "cell_type": "markdown",
   "metadata": {},
   "source": [
    "## 4.3 词频统计\n",
    "\n",
    "词频分析(Word Frequency Analysis)是对文献正文中重要词汇出现的次数进行统计与分析，是文本内容分析的重要手段之一，其基本原理是通过词出现频次多少的变化, 来确定文本内容的热点及其变化趋势。\n",
    "\n",
    "《红楼梦》全文文本在经过分词和数据清洗之后，存放在变量 `final_content` 中，`Counter` 方法可以对各个词汇进行词频统计，变量 `counting_words` 用来存放统计结果。"
   ]
  },
  {
   "cell_type": "code",
   "execution_count": 17,
   "metadata": {},
   "outputs": [
    {
     "name": "stdout",
     "output_type": "stream",
     "text": [
      "[('道', 6370), ('说', 6132), ('宝玉', 3748), ('人', 2659), ('笑', 2481), ('听', 1767), ('好', 1647), ('一个', 1451), ('只', 1301), ('贾母', 1228), ('凤姐', 1100), ('倒', 1059), ('罢', 1048), ('忙', 1021), ('王夫人', 1011), ('说道', 973), ('知道', 967), ('老太太', 966), ('吃', 952), ('问', 943)]\n"
     ]
    }
   ],
   "source": [
    "#使用 counter 做词频统计，选取出现频率前 500 的词汇\n",
    "from collections import Counter\n",
    "\n",
    "counting_words = Counter(final_content)\n",
    "common_words = counting_words.most_common(20)\n",
    "print(common_words)"
   ]
  },
  {
   "cell_type": "markdown",
   "metadata": {},
   "source": [
    "## 4.4 关键词提取\n",
    "\n",
    "关键词代表了一篇文章的核心词汇或重要内容，不管是文本推荐还是文本的分类、聚类，对于关键词的依赖性都很大。关键词提取就是从大量文本信息中，提取出最能代表文本主题和内容的词汇。但是，并不是出现频率越高的词汇就越能表现文本的主旨，关键词提取需要采用多种提取算法。\n",
    "\n",
    "目前，常用的关键词提取算法有`TF-IDF` 和 `TextRank` 两种无监督关键词提取算法。 <font color=Blue>(Self-learning，请同学们自行查找资料学习！)</font>"
   ]
  },
  {
   "cell_type": "markdown",
   "metadata": {},
   "source": [
    "### 4.4.1 基于 TF-IDF 算法的关键词提取\n",
    "\n",
    "jieba 分词中通过 analyse 类实现关键词的提取操作，其中基于 TF-IDF 算法的关键词提取命令格式为:\n",
    "\n",
    "```\n",
    "jieba.analyse.extract_tags(sentence, topK=20, withWeight=False, allowPOS=())\n",
    "\n",
    "```\n",
    "\n",
    "其中，sentence 为待提取的文本;topK 为返回 TF-IDF 计算结果(权重)最大的关键词个数，默认值为 20 个; withWeight 为是否一并返回关键词的权重值，默认值为 False; allowPOS 为返回仅包括指定词性的词，默认值为空，即不筛选。"
   ]
  },
  {
   "cell_type": "code",
   "execution_count": 103,
   "metadata": {},
   "outputs": [
    {
     "data": {
      "text/plain": [
       "[('宝玉', 0.11122995893205928),\n",
       " ('笑道', 0.053448859950478725),\n",
       " ('贾母', 0.0405207674424686),\n",
       " ('凤姐', 0.03672722920642641),\n",
       " ('王夫人', 0.03365584022963898),\n",
       " ('老太太', 0.029873612250538088),\n",
       " ('那里', 0.025115462209370165),\n",
       " ('什么', 0.024482714477153944),\n",
       " ('贾琏', 0.02417753087165903),\n",
       " ('太太', 0.023962716541594858)]"
      ]
     },
     "execution_count": 103,
     "metadata": {},
     "output_type": "execute_result"
    }
   ],
   "source": [
    "#TF-IDF算法提取关键词\n",
    "key_words_TFIDF = jieba.analyse.extract_tags(content,topK=2000,withWeight=True)\n",
    "key_words_TFIDF[:10]"
   ]
  },
  {
   "cell_type": "markdown",
   "metadata": {},
   "source": [
    "### 4.4.2 基于 TextRank 算法的关键词提取\n",
    "\n",
    "jieba 分词中基于 TextRank 算法的关键词提取命令格式为:\n",
    "\n",
    "```\n",
    "jieba.analyse.textrank(sentence, topK=20, withWeight=False, \n",
    "                       allowPOS=('ns','n','vn','v'))\n",
    "```\n",
    "\n",
    "其中，sentence 为待提取的文本;topK 为返回权重最大的关键词个数，默认值为 20; withWeight 为是否一并返回关键词的权重值，默认值为 False;allowPOS 为返回仅包括指定 词性的词，默认为返回词的词性为地名、名词、名动词以及动词。"
   ]
  },
  {
   "cell_type": "code",
   "execution_count": 104,
   "metadata": {},
   "outputs": [
    {
     "data": {
      "text/plain": [
       "[('笑道', 1.0),\n",
       " ('众人', 0.5846481316942517),\n",
       " ('只见', 0.5764328845607578),\n",
       " ('起来', 0.5684293628391204),\n",
       " ('说道', 0.5625293537728534),\n",
       " ('出来', 0.5564851494917306),\n",
       " ('姑娘', 0.5519805491146055),\n",
       " ('知道', 0.4831520517585031),\n",
       " ('太太', 0.4807813682382808),\n",
       " ('没有', 0.4797838154568143)]"
      ]
     },
     "execution_count": 104,
     "metadata": {},
     "output_type": "execute_result"
    }
   ],
   "source": [
    "#TextRank算法提取关键词\n",
    "key_words_TR = jieba.analyse.textrank(content,topK=2000,withWeight=True)\n",
    "key_words_TR[:10]"
   ]
  },
  {
   "cell_type": "markdown",
   "metadata": {},
   "source": [
    "## 上机作业\n",
    "\n",
    "Jieba分词的应用\n",
    "\n",
    ">武汉大学学科门类齐全、综合性强、特色明显，涵盖了哲、经、法、教育、文、史、理、工、农、医、管理、艺术等12个学科门类。学校设有人文科学、社会科学、理学、工学、信息科学和医学六大学部34个学院（系）以及3所三级甲等附属医院。有123个本科专业。17个学科进入ESI全球排名前1%，5个一级学科、17个二级学科被认定为国家重点学科，6个学科为国家重点（培育）学科，有10个一流建设学科。57个一级学科具有硕士学位授予权。46个一级学科具有博士学位授予权。有42个博士后流动站。\n",
    "\n",
    "针对上述语料（也可以自行导入语料），请完成以下操作。\n",
    "\n",
    "(1) 利用Jieba分词对上述文本进行分词"
   ]
  },
  {
   "cell_type": "code",
   "execution_count": null,
   "metadata": {},
   "outputs": [],
   "source": []
  },
  {
   "cell_type": "markdown",
   "metadata": {},
   "source": [
    "(2) 利用Jieba分词对上述文本进行词标注"
   ]
  },
  {
   "cell_type": "code",
   "execution_count": null,
   "metadata": {},
   "outputs": [],
   "source": []
  },
  {
   "cell_type": "markdown",
   "metadata": {},
   "source": [
    "(3) 利用Jieba分词对上述文本进行关键词提取"
   ]
  },
  {
   "cell_type": "code",
   "execution_count": null,
   "metadata": {},
   "outputs": [],
   "source": []
  }
 ],
 "metadata": {
  "kernelspec": {
   "display_name": "Python 3",
   "language": "python",
   "name": "python3"
  },
  "language_info": {
   "codemirror_mode": {
    "name": "ipython",
    "version": 3
   },
   "file_extension": ".py",
   "mimetype": "text/x-python",
   "name": "python",
   "nbconvert_exporter": "python",
   "pygments_lexer": "ipython3",
   "version": "3.7.4"
  },
  "toc": {
   "base_numbering": 1,
   "nav_menu": {},
   "number_sections": false,
   "sideBar": true,
   "skip_h1_title": false,
   "title_cell": "Table of Contents",
   "title_sidebar": "Contents",
   "toc_cell": false,
   "toc_position": {
    "height": "calc(100% - 180px)",
    "left": "10px",
    "top": "150px",
    "width": "273.188px"
   },
   "toc_section_display": true,
   "toc_window_display": true
  }
 },
 "nbformat": 4,
 "nbformat_minor": 4
}
